{
  "cells": [
    {
      "cell_type": "markdown",
      "metadata": {
        "id": "view-in-github",
        "colab_type": "text"
      },
      "source": [
        "<a href=\"https://colab.research.google.com/github/Saaaahss77/PROJETO_IMERS-O_ALURA-IA/blob/main/templates/aistudio_gemini_prompt_chat_b64.ipynb\" target=\"_parent\"><img src=\"https://colab.research.google.com/assets/colab-badge.svg\" alt=\"Open In Colab\"/></a>"
      ]
    },
    {
      "cell_type": "markdown",
      "metadata": {
        "id": "Tce3stUlHN0L"
      },
      "source": [
        "##### Copyright 2023 Google LLC"
      ]
    },
    {
      "cell_type": "code",
      "execution_count": null,
      "metadata": {
        "cellView": "form",
        "id": "tuOe1ymfHZPu"
      },
      "outputs": [],
      "source": [
        "#@title Licensed under the Apache License, Version 2.0 (the \"License\");\n",
        "# you may not use this file except in compliance with the License.\n",
        "# You may obtain a copy of the License at\n",
        "#\n",
        "# https://www.apache.org/licenses/LICENSE-2.0\n",
        "#\n",
        "# Unless required by applicable law or agreed to in writing, software\n",
        "# distributed under the License is distributed on an \"AS IS\" BASIS,\n",
        "# WITHOUT WARRANTIES OR CONDITIONS OF ANY KIND, either express or implied.\n",
        "# See the License for the specific language governing permissions and\n",
        "# limitations under the License."
      ]
    },
    {
      "cell_type": "markdown",
      "metadata": {
        "id": "FKwyTRdwB8aW"
      },
      "source": [
        "## Setup"
      ]
    },
    {
      "cell_type": "markdown",
      "metadata": {
        "id": "rlE8UqxrDIez"
      },
      "source": [
        "### Install & import\n"
      ]
    },
    {
      "cell_type": "code",
      "source": [
        "pip install sentence_transformers"
      ],
      "metadata": {
        "collapsed": true,
        "id": "z76_4B4kBrbz",
        "outputId": "a09150b3-0f88-466d-c0f1-574a04370f94",
        "colab": {
          "base_uri": "https://localhost:8080/"
        }
      },
      "execution_count": 6,
      "outputs": [
        {
          "output_type": "stream",
          "name": "stdout",
          "text": [
            "Collecting sentence_transformers\n",
            "  Downloading sentence_transformers-2.7.0-py3-none-any.whl (171 kB)\n",
            "\u001b[?25l     \u001b[90m━━━━━━━━━━━━━━━━━━━━━━━━━━━━━━━━━━━━━━━━\u001b[0m \u001b[32m0.0/171.5 kB\u001b[0m \u001b[31m?\u001b[0m eta \u001b[36m-:--:--\u001b[0m\r\u001b[2K     \u001b[91m━━━━━━━━━━━━━━━━━━━━━\u001b[0m\u001b[90m╺\u001b[0m\u001b[90m━━━━━━━━━━━━━━━━━━\u001b[0m \u001b[32m92.2/171.5 kB\u001b[0m \u001b[31m2.4 MB/s\u001b[0m eta \u001b[36m0:00:01\u001b[0m\r\u001b[2K     \u001b[90m━━━━━━━━━━━━━━━━━━━━━━━━━━━━━━━━━━━━━━━━\u001b[0m \u001b[32m171.5/171.5 kB\u001b[0m \u001b[31m3.0 MB/s\u001b[0m eta \u001b[36m0:00:00\u001b[0m\n",
            "\u001b[?25hRequirement already satisfied: transformers<5.0.0,>=4.34.0 in /usr/local/lib/python3.10/dist-packages (from sentence_transformers) (4.40.2)\n",
            "Requirement already satisfied: tqdm in /usr/local/lib/python3.10/dist-packages (from sentence_transformers) (4.66.4)\n",
            "Requirement already satisfied: torch>=1.11.0 in /usr/local/lib/python3.10/dist-packages (from sentence_transformers) (2.2.1+cu121)\n",
            "Requirement already satisfied: numpy in /usr/local/lib/python3.10/dist-packages (from sentence_transformers) (1.25.2)\n",
            "Requirement already satisfied: scikit-learn in /usr/local/lib/python3.10/dist-packages (from sentence_transformers) (1.2.2)\n",
            "Requirement already satisfied: scipy in /usr/local/lib/python3.10/dist-packages (from sentence_transformers) (1.11.4)\n",
            "Requirement already satisfied: huggingface-hub>=0.15.1 in /usr/local/lib/python3.10/dist-packages (from sentence_transformers) (0.20.3)\n",
            "Requirement already satisfied: Pillow in /usr/local/lib/python3.10/dist-packages (from sentence_transformers) (9.4.0)\n",
            "Requirement already satisfied: filelock in /usr/local/lib/python3.10/dist-packages (from huggingface-hub>=0.15.1->sentence_transformers) (3.14.0)\n",
            "Requirement already satisfied: fsspec>=2023.5.0 in /usr/local/lib/python3.10/dist-packages (from huggingface-hub>=0.15.1->sentence_transformers) (2023.6.0)\n",
            "Requirement already satisfied: requests in /usr/local/lib/python3.10/dist-packages (from huggingface-hub>=0.15.1->sentence_transformers) (2.31.0)\n",
            "Requirement already satisfied: pyyaml>=5.1 in /usr/local/lib/python3.10/dist-packages (from huggingface-hub>=0.15.1->sentence_transformers) (6.0.1)\n",
            "Requirement already satisfied: typing-extensions>=3.7.4.3 in /usr/local/lib/python3.10/dist-packages (from huggingface-hub>=0.15.1->sentence_transformers) (4.11.0)\n",
            "Requirement already satisfied: packaging>=20.9 in /usr/local/lib/python3.10/dist-packages (from huggingface-hub>=0.15.1->sentence_transformers) (24.0)\n",
            "Requirement already satisfied: sympy in /usr/local/lib/python3.10/dist-packages (from torch>=1.11.0->sentence_transformers) (1.12)\n",
            "Requirement already satisfied: networkx in /usr/local/lib/python3.10/dist-packages (from torch>=1.11.0->sentence_transformers) (3.3)\n",
            "Requirement already satisfied: jinja2 in /usr/local/lib/python3.10/dist-packages (from torch>=1.11.0->sentence_transformers) (3.1.4)\n",
            "Collecting nvidia-cuda-nvrtc-cu12==12.1.105 (from torch>=1.11.0->sentence_transformers)\n",
            "  Using cached nvidia_cuda_nvrtc_cu12-12.1.105-py3-none-manylinux1_x86_64.whl (23.7 MB)\n",
            "Collecting nvidia-cuda-runtime-cu12==12.1.105 (from torch>=1.11.0->sentence_transformers)\n",
            "  Using cached nvidia_cuda_runtime_cu12-12.1.105-py3-none-manylinux1_x86_64.whl (823 kB)\n",
            "Collecting nvidia-cuda-cupti-cu12==12.1.105 (from torch>=1.11.0->sentence_transformers)\n",
            "  Using cached nvidia_cuda_cupti_cu12-12.1.105-py3-none-manylinux1_x86_64.whl (14.1 MB)\n",
            "Collecting nvidia-cudnn-cu12==8.9.2.26 (from torch>=1.11.0->sentence_transformers)\n",
            "  Using cached nvidia_cudnn_cu12-8.9.2.26-py3-none-manylinux1_x86_64.whl (731.7 MB)\n",
            "Collecting nvidia-cublas-cu12==12.1.3.1 (from torch>=1.11.0->sentence_transformers)\n",
            "  Using cached nvidia_cublas_cu12-12.1.3.1-py3-none-manylinux1_x86_64.whl (410.6 MB)\n",
            "Collecting nvidia-cufft-cu12==11.0.2.54 (from torch>=1.11.0->sentence_transformers)\n",
            "  Using cached nvidia_cufft_cu12-11.0.2.54-py3-none-manylinux1_x86_64.whl (121.6 MB)\n",
            "Collecting nvidia-curand-cu12==10.3.2.106 (from torch>=1.11.0->sentence_transformers)\n",
            "  Using cached nvidia_curand_cu12-10.3.2.106-py3-none-manylinux1_x86_64.whl (56.5 MB)\n",
            "Collecting nvidia-cusolver-cu12==11.4.5.107 (from torch>=1.11.0->sentence_transformers)\n",
            "  Using cached nvidia_cusolver_cu12-11.4.5.107-py3-none-manylinux1_x86_64.whl (124.2 MB)\n",
            "Collecting nvidia-cusparse-cu12==12.1.0.106 (from torch>=1.11.0->sentence_transformers)\n",
            "  Using cached nvidia_cusparse_cu12-12.1.0.106-py3-none-manylinux1_x86_64.whl (196.0 MB)\n",
            "Collecting nvidia-nccl-cu12==2.19.3 (from torch>=1.11.0->sentence_transformers)\n",
            "  Using cached nvidia_nccl_cu12-2.19.3-py3-none-manylinux1_x86_64.whl (166.0 MB)\n",
            "Collecting nvidia-nvtx-cu12==12.1.105 (from torch>=1.11.0->sentence_transformers)\n",
            "  Using cached nvidia_nvtx_cu12-12.1.105-py3-none-manylinux1_x86_64.whl (99 kB)\n",
            "Requirement already satisfied: triton==2.2.0 in /usr/local/lib/python3.10/dist-packages (from torch>=1.11.0->sentence_transformers) (2.2.0)\n",
            "Collecting nvidia-nvjitlink-cu12 (from nvidia-cusolver-cu12==11.4.5.107->torch>=1.11.0->sentence_transformers)\n",
            "  Using cached nvidia_nvjitlink_cu12-12.4.127-py3-none-manylinux2014_x86_64.whl (21.1 MB)\n",
            "Requirement already satisfied: regex!=2019.12.17 in /usr/local/lib/python3.10/dist-packages (from transformers<5.0.0,>=4.34.0->sentence_transformers) (2023.12.25)\n",
            "Requirement already satisfied: tokenizers<0.20,>=0.19 in /usr/local/lib/python3.10/dist-packages (from transformers<5.0.0,>=4.34.0->sentence_transformers) (0.19.1)\n",
            "Requirement already satisfied: safetensors>=0.4.1 in /usr/local/lib/python3.10/dist-packages (from transformers<5.0.0,>=4.34.0->sentence_transformers) (0.4.3)\n",
            "Requirement already satisfied: joblib>=1.1.1 in /usr/local/lib/python3.10/dist-packages (from scikit-learn->sentence_transformers) (1.4.2)\n",
            "Requirement already satisfied: threadpoolctl>=2.0.0 in /usr/local/lib/python3.10/dist-packages (from scikit-learn->sentence_transformers) (3.5.0)\n",
            "Requirement already satisfied: MarkupSafe>=2.0 in /usr/local/lib/python3.10/dist-packages (from jinja2->torch>=1.11.0->sentence_transformers) (2.1.5)\n",
            "Requirement already satisfied: charset-normalizer<4,>=2 in /usr/local/lib/python3.10/dist-packages (from requests->huggingface-hub>=0.15.1->sentence_transformers) (3.3.2)\n",
            "Requirement already satisfied: idna<4,>=2.5 in /usr/local/lib/python3.10/dist-packages (from requests->huggingface-hub>=0.15.1->sentence_transformers) (3.7)\n",
            "Requirement already satisfied: urllib3<3,>=1.21.1 in /usr/local/lib/python3.10/dist-packages (from requests->huggingface-hub>=0.15.1->sentence_transformers) (2.0.7)\n",
            "Requirement already satisfied: certifi>=2017.4.17 in /usr/local/lib/python3.10/dist-packages (from requests->huggingface-hub>=0.15.1->sentence_transformers) (2024.2.2)\n",
            "Requirement already satisfied: mpmath>=0.19 in /usr/local/lib/python3.10/dist-packages (from sympy->torch>=1.11.0->sentence_transformers) (1.3.0)\n",
            "Installing collected packages: nvidia-nvtx-cu12, nvidia-nvjitlink-cu12, nvidia-nccl-cu12, nvidia-curand-cu12, nvidia-cufft-cu12, nvidia-cuda-runtime-cu12, nvidia-cuda-nvrtc-cu12, nvidia-cuda-cupti-cu12, nvidia-cublas-cu12, nvidia-cusparse-cu12, nvidia-cudnn-cu12, nvidia-cusolver-cu12, sentence_transformers\n",
            "Successfully installed nvidia-cublas-cu12-12.1.3.1 nvidia-cuda-cupti-cu12-12.1.105 nvidia-cuda-nvrtc-cu12-12.1.105 nvidia-cuda-runtime-cu12-12.1.105 nvidia-cudnn-cu12-8.9.2.26 nvidia-cufft-cu12-11.0.2.54 nvidia-curand-cu12-10.3.2.106 nvidia-cusolver-cu12-11.4.5.107 nvidia-cusparse-cu12-12.1.0.106 nvidia-nccl-cu12-2.19.3 nvidia-nvjitlink-cu12-12.4.127 nvidia-nvtx-cu12-12.1.105 sentence_transformers-2.7.0\n"
          ]
        }
      ]
    },
    {
      "cell_type": "code",
      "source": [
        "API_KEY = \"SECRET_KEY\"\n"
      ],
      "metadata": {
        "id": "WIyqfMznBuOY"
      },
      "execution_count": 14,
      "outputs": []
    },
    {
      "cell_type": "code",
      "source": [
        "import time\n",
        "import re\n",
        "from sentence_transformers import SentenceTransformer, util\n",
        "\n",
        "class Questionario:\n",
        "    def __init__(self, perguntas, respostas, palavras_chave):\n",
        "        self.perguntas = perguntas\n",
        "        self.respostas = respostas\n",
        "        self.palavras_chave = palavras_chave\n",
        "        self.pontuacao = 0\n",
        "        self.modelo_similaridade = SentenceTransformer('all-mpnet-base-v2')  # Carrega um modelo de similaridade semântica\n",
        "\n",
        "    def iniciar_questionario(self):\n",
        "        print(\"Bem-vindo ao Questionário sobre Gemini, AI Studio e Inteligência Artificial!\")\n",
        "        time.sleep(1)\n",
        "        for i, pergunta in enumerate(self.perguntas):\n",
        "            print(f\"\\n**{i+1}.** {pergunta}\")\n",
        "            resposta_usuario = input(\"[Insira sua resposta aqui]: \")\n",
        "            self.checar_resposta(resposta_usuario, i)\n",
        "        self.mostrar_resultado()\n",
        "\n",
        "    def checar_resposta(self, resposta_usuario, indice):\n",
        "        resposta_correta = self.respostas[indice]\n",
        "        palavras_chave_corretas = self.palavras_chave[indice]\n",
        "\n",
        "        # Limpeza e normalização das respostas\n",
        "        resposta_usuario = re.sub(r'[^\\w\\s]', '', resposta_usuario).strip().lower()\n",
        "        resposta_correta = re.sub(r'[^\\w\\s]', '', resposta_correta).strip().lower()\n",
        "\n",
        "        # Similaridade semântica\n",
        "        similaridade = util.pytorch_cos_sim(self.modelo_similaridade.encode(resposta_usuario),\n",
        "                                            self.modelo_similaridade.encode(resposta_correta)).item()\n",
        "\n",
        "        # Verificação de palavras-chave\n",
        "        matches = sum(1 for palavra in resposta_usuario.split() if palavra in palavras_chave_corretas)\n",
        "\n",
        "        # Combinação de critérios: similaridade semântica E pelo menos uma palavra-chave correta\n",
        "        if similaridade >= 0.6 and matches > 0:\n",
        "            print(\"Correto!\")\n",
        "            self.pontuacao += 1\n",
        "        else:\n",
        "            print(f\"Incorreto. A resposta esperada era: {self.respostas[indice]}\")\n",
        "\n",
        "    def mostrar_resultado(self):\n",
        "        print(\"\\nFim do questionário!\")\n",
        "        print(f\"\\nSua pontuação final: {self.pontuacao}/{len(self.perguntas)}\")\n",
        "\n",
        "\n",
        "perguntas = [\n",
        "    \"O que é o Google Gemini?\",\n",
        "    \"Cite três áreas de aplicação do Google Gemini.\",\n",
        "    \"Como o Google Gemini e o AI Studio se relacionam?\",\n",
        "    \"O que é aprendizado de máquina?\",\n",
        "    \"Qual a diferença entre aprendizado supervisionado e não supervisionado?\",\n",
        "    \"Como o Gemini pode ser usado na saúde?\",\n",
        "    \"Cite três vantagens de usar o AI Studio para projetos de IA.\",\n",
        "    \"O que são redes neurais artificiais?\",\n",
        "    \"O que é 'viés' em inteligência artificial?\",\n",
        "    \"Cite desafios éticos relacionados à IA.\"\n",
        "]\n",
        "\n",
        "respostas = [\n",
        "    \"Uma família de modelos de IA avançados do Google que podem processar diferentes tipos de dados.\",\n",
        "    \"Assistentes virtuais, criação de conteúdo (música, arte, escrita) e análise de dados.\",\n",
        "    \"O AI Studio é uma plataforma para desenvolvimento de IA, e o Gemini pode ser usado nele.\",\n",
        "    \"Ensinar computadores a aprender com dados, sem programação explícita.\",\n",
        "    \"Supervisionado usa dados rotulados (com respostas), não supervisionado usa dados não rotulados (sem respostas).\",\n",
        "    \"Diagnóstico de doenças, análise de imagens médicas, descoberta de medicamentos e personalização de tratamentos.\",\n",
        "    \"Ferramentas fáceis de usar, computação em nuvem poderosa e colaboração em equipe.\",\n",
        "    \"Modelos inspirados no cérebro humano, usados para processar informações e aprender.\",\n",
        "    \"Resultados tendenciosos de um modelo de IA, geralmente devido a dados de treinamento enviesados.\",\n",
        "    \"Uso indevido, impacto no trabalho, privacidade dos dados e responsabilidade por decisões da IA.\"\n",
        "]\n",
        "\n",
        "palavras_chave = [\n",
        "    [\"modelos\", \"IA\", \"avançados\", \"google\", \"processar\", \"dados\"],\n",
        "    [\"assistentes\", \"virtuais\", \"criação\", \"conteúdo\", \"análise\", \"dados\"],\n",
        "    [\"plataforma\", \"desenvolvimento\", \"IA\", \"Gemini\", \"AI Studio\"],\n",
        "    [\"ensinar\", \"computadores\", \"aprender\", \"dados\", \"programação\"],\n",
        "    [\"supervisionado\", \"rotulados\", \"não supervisionado\", \"rotulados\", \"respostas\"],\n",
        "    [\"saúde\", \"diagnóstico\", \"doenças\", \"análise\", \"imagens médicas\", \"medicamentos\", \"tratamentos\"],\n",
        "    [\"vantagens\", \"AI Studio\", \"ferramentas\", \"fáceis\", \"computação em nuvem\", \"colaboração\"],\n",
        "    [\"redes neurais\", \"cérebro\", \"humano\", \"processar\", \"informações\", \"aprender\"],\n",
        "    [\"viés\", \"IA\", \"resultados\", \"tendenciosos\", \"dados\", \"treinamento\", \"enviesados\"],\n",
        "    [\"desafios\", \"éticos\", \"IA\", \"uso indevido\", \"impacto\", \"trabalho\", \"privacidade\", \"dados\", \"responsabilidade\"]\n",
        "]\n",
        "\n",
        "\n",
        "questionario = Questionario(perguntas, respostas, palavras_chave)\n",
        "questionario.iniciar_questionario()"
      ],
      "metadata": {
        "id": "T312v38vBzW5",
        "outputId": "6e174482-b9da-48a2-a5be-aad98db3f713",
        "colab": {
          "base_uri": "https://localhost:8080/"
        }
      },
      "execution_count": null,
      "outputs": [
        {
          "output_type": "stream",
          "name": "stdout",
          "text": [
            "Bem-vindo ao Questionário sobre Gemini, AI Studio e Inteligência Artificial!\n",
            "\n",
            "**1.** O que é o Google Gemini?\n"
          ]
        }
      ]
    }
  ],
  "metadata": {
    "colab": {
      "collapsed_sections": [
        "Tce3stUlHN0L"
      ],
      "name": "aistudio_gemini_prompt_chat_b64.ipynb",
      "provenance": [],
      "include_colab_link": true
    },
    "kernelspec": {
      "display_name": "Python 3",
      "name": "python3"
    }
  },
  "nbformat": 4,
  "nbformat_minor": 0
}